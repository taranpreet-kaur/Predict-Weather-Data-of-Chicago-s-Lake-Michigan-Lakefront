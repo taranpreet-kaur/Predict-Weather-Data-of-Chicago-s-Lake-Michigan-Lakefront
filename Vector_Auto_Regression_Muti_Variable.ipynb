{
  "nbformat": 4,
  "nbformat_minor": 0,
  "metadata": {
    "kernelspec": {
      "name": "python3",
      "display_name": "Python 3"
    },
    "language_info": {
      "codemirror_mode": {
        "name": "ipython",
        "version": 3
      },
      "file_extension": ".py",
      "mimetype": "text/x-python",
      "name": "python",
      "nbconvert_exporter": "python",
      "pygments_lexer": "ipython3",
      "version": "3.7.3"
    },
    "colab": {
      "name": "Vector Auto Regression - Muti Variable.ipynb",
      "version": "0.3.2",
      "provenance": []
    },
    "accelerator": "GPU"
  },
  "cells": [
    {
      "cell_type": "code",
      "metadata": {
        "id": "SH3uVw-_X457",
        "colab_type": "code",
        "colab": {}
      },
      "source": [
        "import pandas as pd\n",
        "import numpy as np\n",
        "import matplotlib.pyplot as plt\n",
        "from statsmodels.tsa.vector_ar.vecm import coint_johansen\n",
        "from statsmodels.tsa.vector_ar.var_model import VAR\n",
        "from sklearn.metrics import mean_squared_error \n",
        "import math\n",
        "%matplotlib inline"
      ],
      "execution_count": 0,
      "outputs": []
    },
    {
      "cell_type": "code",
      "metadata": {
        "id": "Jtl1_SOQX45_",
        "colab_type": "code",
        "colab": {
          "base_uri": "https://localhost:8080/",
          "height": 475
        },
        "outputId": "5a8e15d6-c258-4a18-b7dd-b1e0d52805d6"
      },
      "source": [
        "data = pd.read_csv(\"drive/Colab Notebooks/Beach_Weather_Stations_-_Automated_Sensors.csv\")\n",
        "data.head()"
      ],
      "execution_count": 2,
      "outputs": [
        {
          "output_type": "execute_result",
          "data": {
            "text/html": [
              "<div>\n",
              "<style scoped>\n",
              "    .dataframe tbody tr th:only-of-type {\n",
              "        vertical-align: middle;\n",
              "    }\n",
              "\n",
              "    .dataframe tbody tr th {\n",
              "        vertical-align: top;\n",
              "    }\n",
              "\n",
              "    .dataframe thead th {\n",
              "        text-align: right;\n",
              "    }\n",
              "</style>\n",
              "<table border=\"1\" class=\"dataframe\">\n",
              "  <thead>\n",
              "    <tr style=\"text-align: right;\">\n",
              "      <th></th>\n",
              "      <th>Station Name</th>\n",
              "      <th>Measurement Timestamp</th>\n",
              "      <th>Air Temperature</th>\n",
              "      <th>Wet Bulb Temperature</th>\n",
              "      <th>Humidity</th>\n",
              "      <th>Rain Intensity</th>\n",
              "      <th>Interval Rain</th>\n",
              "      <th>Total Rain</th>\n",
              "      <th>Precipitation Type</th>\n",
              "      <th>Wind Direction</th>\n",
              "      <th>Wind Speed</th>\n",
              "      <th>Maximum Wind Speed</th>\n",
              "      <th>Barometric Pressure</th>\n",
              "      <th>Solar Radiation</th>\n",
              "      <th>Heading</th>\n",
              "      <th>Battery Life</th>\n",
              "      <th>Measurement Timestamp Label</th>\n",
              "      <th>Measurement ID</th>\n",
              "    </tr>\n",
              "  </thead>\n",
              "  <tbody>\n",
              "    <tr>\n",
              "      <th>0</th>\n",
              "      <td>63rd Street Weather Station</td>\n",
              "      <td>06/09/2019 04:00:00 PM</td>\n",
              "      <td>16.60</td>\n",
              "      <td>16.6</td>\n",
              "      <td>100</td>\n",
              "      <td>0.0</td>\n",
              "      <td>0.0</td>\n",
              "      <td>70.7</td>\n",
              "      <td>0.0</td>\n",
              "      <td>354</td>\n",
              "      <td>1.4</td>\n",
              "      <td>3.4</td>\n",
              "      <td>992.4</td>\n",
              "      <td>143</td>\n",
              "      <td>356.0</td>\n",
              "      <td>11.9</td>\n",
              "      <td>06/09/2019 4:00 PM</td>\n",
              "      <td>63rdStreetWeatherStation201906091600</td>\n",
              "    </tr>\n",
              "    <tr>\n",
              "      <th>1</th>\n",
              "      <td>Foster Weather Station</td>\n",
              "      <td>06/09/2019 04:00:00 PM</td>\n",
              "      <td>15.67</td>\n",
              "      <td>NaN</td>\n",
              "      <td>89</td>\n",
              "      <td>NaN</td>\n",
              "      <td>0.0</td>\n",
              "      <td>NaN</td>\n",
              "      <td>NaN</td>\n",
              "      <td>336</td>\n",
              "      <td>1.3</td>\n",
              "      <td>1.5</td>\n",
              "      <td>991.9</td>\n",
              "      <td>0</td>\n",
              "      <td>NaN</td>\n",
              "      <td>15.1</td>\n",
              "      <td>06/09/2019 4:00 PM</td>\n",
              "      <td>FosterWeatherStation201906091600</td>\n",
              "    </tr>\n",
              "    <tr>\n",
              "      <th>2</th>\n",
              "      <td>Oak Street Weather Station</td>\n",
              "      <td>06/09/2019 04:00:00 PM</td>\n",
              "      <td>18.50</td>\n",
              "      <td>16.6</td>\n",
              "      <td>83</td>\n",
              "      <td>0.0</td>\n",
              "      <td>0.0</td>\n",
              "      <td>28.8</td>\n",
              "      <td>0.0</td>\n",
              "      <td>63</td>\n",
              "      <td>0.6</td>\n",
              "      <td>0.9</td>\n",
              "      <td>993.2</td>\n",
              "      <td>103</td>\n",
              "      <td>320.0</td>\n",
              "      <td>12.0</td>\n",
              "      <td>06/09/2019 4:00 PM</td>\n",
              "      <td>OakStreetWeatherStation201906091600</td>\n",
              "    </tr>\n",
              "    <tr>\n",
              "      <th>3</th>\n",
              "      <td>63rd Street Weather Station</td>\n",
              "      <td>06/09/2019 03:00:00 PM</td>\n",
              "      <td>16.80</td>\n",
              "      <td>16.8</td>\n",
              "      <td>100</td>\n",
              "      <td>0.0</td>\n",
              "      <td>0.0</td>\n",
              "      <td>70.7</td>\n",
              "      <td>0.0</td>\n",
              "      <td>30</td>\n",
              "      <td>2.8</td>\n",
              "      <td>3.9</td>\n",
              "      <td>992.3</td>\n",
              "      <td>184</td>\n",
              "      <td>356.0</td>\n",
              "      <td>11.9</td>\n",
              "      <td>06/09/2019 3:00 PM</td>\n",
              "      <td>63rdStreetWeatherStation201906091500</td>\n",
              "    </tr>\n",
              "    <tr>\n",
              "      <th>4</th>\n",
              "      <td>Foster Weather Station</td>\n",
              "      <td>06/09/2019 03:00:00 PM</td>\n",
              "      <td>16.56</td>\n",
              "      <td>NaN</td>\n",
              "      <td>89</td>\n",
              "      <td>NaN</td>\n",
              "      <td>0.0</td>\n",
              "      <td>NaN</td>\n",
              "      <td>NaN</td>\n",
              "      <td>45</td>\n",
              "      <td>0.9</td>\n",
              "      <td>1.6</td>\n",
              "      <td>991.5</td>\n",
              "      <td>0</td>\n",
              "      <td>NaN</td>\n",
              "      <td>15.1</td>\n",
              "      <td>06/09/2019 3:00 PM</td>\n",
              "      <td>FosterWeatherStation201906091500</td>\n",
              "    </tr>\n",
              "  </tbody>\n",
              "</table>\n",
              "</div>"
            ],
            "text/plain": [
              "                  Station Name  ...                        Measurement ID\n",
              "0  63rd Street Weather Station  ...  63rdStreetWeatherStation201906091600\n",
              "1       Foster Weather Station  ...      FosterWeatherStation201906091600\n",
              "2   Oak Street Weather Station  ...   OakStreetWeatherStation201906091600\n",
              "3  63rd Street Weather Station  ...  63rdStreetWeatherStation201906091500\n",
              "4       Foster Weather Station  ...      FosterWeatherStation201906091500\n",
              "\n",
              "[5 rows x 18 columns]"
            ]
          },
          "metadata": {
            "tags": []
          },
          "execution_count": 2
        }
      ]
    },
    {
      "cell_type": "code",
      "metadata": {
        "id": "a-aLUV4ZX46D",
        "colab_type": "code",
        "colab": {
          "base_uri": "https://localhost:8080/",
          "height": 355
        },
        "outputId": "11c70bc2-d24f-458d-cc08-53b118c9bc26"
      },
      "source": [
        "data.dtypes"
      ],
      "execution_count": 3,
      "outputs": [
        {
          "output_type": "execute_result",
          "data": {
            "text/plain": [
              "Station Name                    object\n",
              "Measurement Timestamp           object\n",
              "Air Temperature                float64\n",
              "Wet Bulb Temperature           float64\n",
              "Humidity                         int64\n",
              "Rain Intensity                 float64\n",
              "Interval Rain                  float64\n",
              "Total Rain                     float64\n",
              "Precipitation Type             float64\n",
              "Wind Direction                   int64\n",
              "Wind Speed                     float64\n",
              "Maximum Wind Speed             float64\n",
              "Barometric Pressure            float64\n",
              "Solar Radiation                  int64\n",
              "Heading                        float64\n",
              "Battery Life                   float64\n",
              "Measurement Timestamp Label     object\n",
              "Measurement ID                  object\n",
              "dtype: object"
            ]
          },
          "metadata": {
            "tags": []
          },
          "execution_count": 3
        }
      ]
    },
    {
      "cell_type": "markdown",
      "metadata": {
        "id": "4j-76vg6X46F",
        "colab_type": "text"
      },
      "source": [
        "## Creating a DateTime index for the dataset using Measurement Timestamp column"
      ]
    },
    {
      "cell_type": "code",
      "metadata": {
        "id": "7Ggg3DDqX46G",
        "colab_type": "code",
        "colab": {}
      },
      "source": [
        "data['Measurement Timestamp'] =  pd.to_datetime(data['Measurement Timestamp'], format='%m/%d/%Y %I:%M:%S %p')\n",
        "data = data.set_index('Measurement Timestamp')\n",
        "cols = ['Station Name', 'Measurement Timestamp Label', 'Measurement ID']\n",
        "data.drop(cols, axis=1, inplace=True)"
      ],
      "execution_count": 0,
      "outputs": []
    },
    {
      "cell_type": "code",
      "metadata": {
        "id": "qwutPyZQX46I",
        "colab_type": "code",
        "colab": {
          "base_uri": "https://localhost:8080/",
          "height": 106
        },
        "outputId": "7bbcf9cf-9c8e-4004-a123-efcfcc499eef"
      },
      "source": [
        "data.columns"
      ],
      "execution_count": 5,
      "outputs": [
        {
          "output_type": "execute_result",
          "data": {
            "text/plain": [
              "Index(['Air Temperature', 'Wet Bulb Temperature', 'Humidity', 'Rain Intensity',\n",
              "       'Interval Rain', 'Total Rain', 'Precipitation Type', 'Wind Direction',\n",
              "       'Wind Speed', 'Maximum Wind Speed', 'Barometric Pressure',\n",
              "       'Solar Radiation', 'Heading', 'Battery Life'],\n",
              "      dtype='object')"
            ]
          },
          "metadata": {
            "tags": []
          },
          "execution_count": 5
        }
      ]
    },
    {
      "cell_type": "code",
      "metadata": {
        "id": "wAFAYjYbX46M",
        "colab_type": "code",
        "colab": {
          "base_uri": "https://localhost:8080/",
          "height": 328
        },
        "outputId": "3a49dca9-c804-4682-e67b-29263be1346f"
      },
      "source": [
        "data.describe()"
      ],
      "execution_count": 6,
      "outputs": [
        {
          "output_type": "execute_result",
          "data": {
            "text/html": [
              "<div>\n",
              "<style scoped>\n",
              "    .dataframe tbody tr th:only-of-type {\n",
              "        vertical-align: middle;\n",
              "    }\n",
              "\n",
              "    .dataframe tbody tr th {\n",
              "        vertical-align: top;\n",
              "    }\n",
              "\n",
              "    .dataframe thead th {\n",
              "        text-align: right;\n",
              "    }\n",
              "</style>\n",
              "<table border=\"1\" class=\"dataframe\">\n",
              "  <thead>\n",
              "    <tr style=\"text-align: right;\">\n",
              "      <th></th>\n",
              "      <th>Air Temperature</th>\n",
              "      <th>Wet Bulb Temperature</th>\n",
              "      <th>Humidity</th>\n",
              "      <th>Rain Intensity</th>\n",
              "      <th>Interval Rain</th>\n",
              "      <th>Total Rain</th>\n",
              "      <th>Precipitation Type</th>\n",
              "      <th>Wind Direction</th>\n",
              "      <th>Wind Speed</th>\n",
              "      <th>Maximum Wind Speed</th>\n",
              "      <th>Barometric Pressure</th>\n",
              "      <th>Solar Radiation</th>\n",
              "      <th>Heading</th>\n",
              "      <th>Battery Life</th>\n",
              "    </tr>\n",
              "  </thead>\n",
              "  <tbody>\n",
              "    <tr>\n",
              "      <th>count</th>\n",
              "      <td>90163.000000</td>\n",
              "      <td>56638.000000</td>\n",
              "      <td>90238.000000</td>\n",
              "      <td>56638.000000</td>\n",
              "      <td>90238.000000</td>\n",
              "      <td>56638.000000</td>\n",
              "      <td>56638.000000</td>\n",
              "      <td>90238.000000</td>\n",
              "      <td>90238.000000</td>\n",
              "      <td>90238.000000</td>\n",
              "      <td>90092.000000</td>\n",
              "      <td>90238.000000</td>\n",
              "      <td>56638.000000</td>\n",
              "      <td>90238.000000</td>\n",
              "    </tr>\n",
              "    <tr>\n",
              "      <th>mean</th>\n",
              "      <td>11.379151</td>\n",
              "      <td>9.173843</td>\n",
              "      <td>69.534730</td>\n",
              "      <td>0.191048</td>\n",
              "      <td>0.168073</td>\n",
              "      <td>154.769805</td>\n",
              "      <td>4.765264</td>\n",
              "      <td>180.528314</td>\n",
              "      <td>3.109517</td>\n",
              "      <td>4.594583</td>\n",
              "      <td>994.233139</td>\n",
              "      <td>95.267537</td>\n",
              "      <td>204.319626</td>\n",
              "      <td>13.131933</td>\n",
              "    </tr>\n",
              "    <tr>\n",
              "      <th>std</th>\n",
              "      <td>10.592629</td>\n",
              "      <td>9.572233</td>\n",
              "      <td>15.761854</td>\n",
              "      <td>2.056301</td>\n",
              "      <td>1.246283</td>\n",
              "      <td>211.893050</td>\n",
              "      <td>16.419430</td>\n",
              "      <td>108.924007</td>\n",
              "      <td>6.947825</td>\n",
              "      <td>7.228748</td>\n",
              "      <td>7.199156</td>\n",
              "      <td>388.733265</td>\n",
              "      <td>174.542049</td>\n",
              "      <td>1.518133</td>\n",
              "    </tr>\n",
              "    <tr>\n",
              "      <th>min</th>\n",
              "      <td>-29.780000</td>\n",
              "      <td>-28.900000</td>\n",
              "      <td>14.000000</td>\n",
              "      <td>0.000000</td>\n",
              "      <td>0.000000</td>\n",
              "      <td>0.000000</td>\n",
              "      <td>0.000000</td>\n",
              "      <td>0.000000</td>\n",
              "      <td>0.000000</td>\n",
              "      <td>0.000000</td>\n",
              "      <td>964.400000</td>\n",
              "      <td>-100000.000000</td>\n",
              "      <td>0.000000</td>\n",
              "      <td>11.600000</td>\n",
              "    </tr>\n",
              "    <tr>\n",
              "      <th>25%</th>\n",
              "      <td>3.300000</td>\n",
              "      <td>2.200000</td>\n",
              "      <td>59.000000</td>\n",
              "      <td>0.000000</td>\n",
              "      <td>0.000000</td>\n",
              "      <td>13.000000</td>\n",
              "      <td>0.000000</td>\n",
              "      <td>84.000000</td>\n",
              "      <td>1.500000</td>\n",
              "      <td>2.400000</td>\n",
              "      <td>989.900000</td>\n",
              "      <td>0.000000</td>\n",
              "      <td>1.000000</td>\n",
              "      <td>11.900000</td>\n",
              "    </tr>\n",
              "    <tr>\n",
              "      <th>50%</th>\n",
              "      <td>11.500000</td>\n",
              "      <td>9.600000</td>\n",
              "      <td>71.000000</td>\n",
              "      <td>0.000000</td>\n",
              "      <td>0.000000</td>\n",
              "      <td>48.400000</td>\n",
              "      <td>0.000000</td>\n",
              "      <td>199.000000</td>\n",
              "      <td>2.600000</td>\n",
              "      <td>3.900000</td>\n",
              "      <td>994.200000</td>\n",
              "      <td>2.000000</td>\n",
              "      <td>354.000000</td>\n",
              "      <td>12.100000</td>\n",
              "    </tr>\n",
              "    <tr>\n",
              "      <th>75%</th>\n",
              "      <td>20.560000</td>\n",
              "      <td>17.400000</td>\n",
              "      <td>82.000000</td>\n",
              "      <td>0.000000</td>\n",
              "      <td>0.000000</td>\n",
              "      <td>231.500000</td>\n",
              "      <td>0.000000</td>\n",
              "      <td>272.000000</td>\n",
              "      <td>4.100000</td>\n",
              "      <td>6.000000</td>\n",
              "      <td>998.700000</td>\n",
              "      <td>68.000000</td>\n",
              "      <td>355.000000</td>\n",
              "      <td>15.100000</td>\n",
              "    </tr>\n",
              "    <tr>\n",
              "      <th>max</th>\n",
              "      <td>35.000000</td>\n",
              "      <td>28.400000</td>\n",
              "      <td>100.000000</td>\n",
              "      <td>183.600000</td>\n",
              "      <td>63.420000</td>\n",
              "      <td>1056.100000</td>\n",
              "      <td>70.000000</td>\n",
              "      <td>359.000000</td>\n",
              "      <td>999.900000</td>\n",
              "      <td>999.900000</td>\n",
              "      <td>1022.700000</td>\n",
              "      <td>1277.000000</td>\n",
              "      <td>359.000000</td>\n",
              "      <td>15.300000</td>\n",
              "    </tr>\n",
              "  </tbody>\n",
              "</table>\n",
              "</div>"
            ],
            "text/plain": [
              "       Air Temperature  Wet Bulb Temperature  ...       Heading  Battery Life\n",
              "count     90163.000000          56638.000000  ...  56638.000000  90238.000000\n",
              "mean         11.379151              9.173843  ...    204.319626     13.131933\n",
              "std          10.592629              9.572233  ...    174.542049      1.518133\n",
              "min         -29.780000            -28.900000  ...      0.000000     11.600000\n",
              "25%           3.300000              2.200000  ...      1.000000     11.900000\n",
              "50%          11.500000              9.600000  ...    354.000000     12.100000\n",
              "75%          20.560000             17.400000  ...    355.000000     15.100000\n",
              "max          35.000000             28.400000  ...    359.000000     15.300000\n",
              "\n",
              "[8 rows x 14 columns]"
            ]
          },
          "metadata": {
            "tags": []
          },
          "execution_count": 6
        }
      ]
    },
    {
      "cell_type": "code",
      "metadata": {
        "id": "7Z9Nf9xvX46P",
        "colab_type": "code",
        "colab": {
          "base_uri": "https://localhost:8080/",
          "height": 35
        },
        "outputId": "a82d759e-c993-49c0-ac81-600fe18b79a9"
      },
      "source": [
        "df = data.resample('H').mean()\n",
        "df.fillna(method=\"ffill\",axis=0,inplace=True)\n",
        "df.dropna(inplace=True)\n",
        "df.shape"
      ],
      "execution_count": 7,
      "outputs": [
        {
          "output_type": "execute_result",
          "data": {
            "text/plain": [
              "(36152, 14)"
            ]
          },
          "metadata": {
            "tags": []
          },
          "execution_count": 7
        }
      ]
    },
    {
      "cell_type": "markdown",
      "metadata": {
        "id": "Ff1Zci0lX46R",
        "colab_type": "text"
      },
      "source": [
        "### Creating train and validation split"
      ]
    },
    {
      "cell_type": "code",
      "metadata": {
        "id": "wKItyHggX46S",
        "colab_type": "code",
        "colab": {}
      },
      "source": [
        "train = df[:int(0.8*(len(df)))]\n",
        "valid = df[int(0.8*(len(df))):]"
      ],
      "execution_count": 0,
      "outputs": []
    },
    {
      "cell_type": "markdown",
      "metadata": {
        "id": "3Y1jo6dwX46T",
        "colab_type": "text"
      },
      "source": [
        "### Training the model on training datatset"
      ]
    },
    {
      "cell_type": "code",
      "metadata": {
        "id": "tLnXbAkWX46U",
        "colab_type": "code",
        "colab": {}
      },
      "source": [
        "model = VAR(endog=train)\n",
        "model_fit = model.fit()"
      ],
      "execution_count": 0,
      "outputs": []
    },
    {
      "cell_type": "code",
      "metadata": {
        "id": "cuBmwvExX46W",
        "colab_type": "code",
        "colab": {
          "base_uri": "https://localhost:8080/",
          "height": 1000
        },
        "outputId": "a43bcf8b-1610-4582-c7b6-bdcdb5457515"
      },
      "source": [
        "model_fit.summary()"
      ],
      "execution_count": 10,
      "outputs": [
        {
          "output_type": "execute_result",
          "data": {
            "text/plain": [
              "  Summary of Regression Results   \n",
              "==================================\n",
              "Model:                         VAR\n",
              "Method:                        OLS\n",
              "Date:           Sun, 28, Jul, 2019\n",
              "Time:                     00:47:22\n",
              "--------------------------------------------------------------------\n",
              "No. of Equations:         14.0000    BIC:                    34.1286\n",
              "Nobs:                     28920.0    HQIC:                   34.0878\n",
              "Log likelihood:      -1.06692e+06    FPE:                6.24842e+14\n",
              "AIC:                      34.0685    Det(Omega_mle):     6.20322e+14\n",
              "--------------------------------------------------------------------\n",
              "Results for equation Air Temperature\n",
              "==========================================================================================\n",
              "                             coefficient       std. error           t-stat            prob\n",
              "------------------------------------------------------------------------------------------\n",
              "const                          -6.259800         0.911925           -6.864           0.000\n",
              "L1.Air Temperature              0.936245         0.007341          127.533           0.000\n",
              "L1.Wet Bulb Temperature         0.064634         0.008275            7.811           0.000\n",
              "L1.Humidity                    -0.002239         0.000996           -2.248           0.025\n",
              "L1.Rain Intensity              -0.019808         0.003438           -5.761           0.000\n",
              "L1.Interval Rain                0.036543         0.006111            5.980           0.000\n",
              "L1.Total Rain                   0.000014         0.000032            0.434           0.664\n",
              "L1.Precipitation Type          -0.002230         0.000402           -5.546           0.000\n",
              "L1.Wind Direction              -0.000319         0.000061           -5.222           0.000\n",
              "L1.Wind Speed                   0.018089         0.006233            2.902           0.004\n",
              "L1.Maximum Wind Speed          -0.011748         0.005791           -2.029           0.042\n",
              "L1.Barometric Pressure          0.004813         0.000848            5.677           0.000\n",
              "L1.Solar Radiation              0.000585         0.000021           28.083           0.000\n",
              "L1.Heading                      0.000440         0.000063            6.970           0.000\n",
              "L1.Battery Life                 0.130127         0.016336            7.965           0.000\n",
              "==========================================================================================\n",
              "\n",
              "Results for equation Wet Bulb Temperature\n",
              "==========================================================================================\n",
              "                             coefficient       std. error           t-stat            prob\n",
              "------------------------------------------------------------------------------------------\n",
              "const                          -3.267452         0.625341           -5.225           0.000\n",
              "L1.Air Temperature              0.063631         0.005034           12.640           0.000\n",
              "L1.Wet Bulb Temperature         0.924500         0.005675          162.921           0.000\n",
              "L1.Humidity                     0.007146         0.000683           10.465           0.000\n",
              "L1.Rain Intensity              -0.010618         0.002358           -4.503           0.000\n",
              "L1.Interval Rain                0.022511         0.004191            5.372           0.000\n",
              "L1.Total Rain                   0.000020         0.000022            0.929           0.353\n",
              "L1.Precipitation Type          -0.000798         0.000276           -2.896           0.004\n",
              "L1.Wind Direction              -0.000515         0.000042          -12.301           0.000\n",
              "L1.Wind Speed                   0.041256         0.004274            9.653           0.000\n",
              "L1.Maximum Wind Speed          -0.041359         0.003971          -10.416           0.000\n",
              "L1.Barometric Pressure          0.002999         0.000581            5.159           0.000\n",
              "L1.Solar Radiation              0.000280         0.000014           19.646           0.000\n",
              "L1.Heading                     -0.000037         0.000043           -0.844           0.399\n",
              "L1.Battery Life                -0.009202         0.011203           -0.821           0.411\n",
              "==========================================================================================\n",
              "\n",
              "Results for equation Humidity\n",
              "==========================================================================================\n",
              "                             coefficient       std. error           t-stat            prob\n",
              "------------------------------------------------------------------------------------------\n",
              "const                          24.814383         4.241520            5.850           0.000\n",
              "L1.Air Temperature              0.188398         0.034145            5.518           0.000\n",
              "L1.Wet Bulb Temperature        -0.195349         0.038489           -5.075           0.000\n",
              "L1.Humidity                     0.969902         0.004631          209.416           0.000\n",
              "L1.Rain Intensity               0.088069         0.015992            5.507           0.000\n",
              "L1.Interval Rain               -0.157618         0.028424           -5.545           0.000\n",
              "L1.Total Rain                  -0.000182         0.000147           -1.242           0.214\n",
              "L1.Precipitation Type           0.017301         0.001870            9.252           0.000\n",
              "L1.Wind Direction              -0.003167         0.000284          -11.161           0.000\n",
              "L1.Wind Speed                   0.099182         0.028989            3.421           0.001\n",
              "L1.Maximum Wind Speed          -0.134939         0.026934           -5.010           0.000\n",
              "L1.Barometric Pressure         -0.022877         0.003943           -5.802           0.000\n",
              "L1.Solar Radiation             -0.002060         0.000097          -21.272           0.000\n",
              "L1.Heading                     -0.001101         0.000294           -3.753           0.000\n",
              "L1.Battery Life                 0.066066         0.075984            0.869           0.385\n",
              "==========================================================================================\n",
              "\n",
              "Results for equation Rain Intensity\n",
              "==========================================================================================\n",
              "                             coefficient       std. error           t-stat            prob\n",
              "------------------------------------------------------------------------------------------\n",
              "const                          11.979768         1.759299            6.809           0.000\n",
              "L1.Air Temperature              0.004592         0.014163            0.324           0.746\n",
              "L1.Wet Bulb Temperature        -0.006851         0.015964           -0.429           0.668\n",
              "L1.Humidity                     0.001615         0.001921            0.841           0.400\n",
              "L1.Rain Intensity               0.136080         0.006633           20.516           0.000\n",
              "L1.Interval Rain                0.270491         0.011790           22.943           0.000\n",
              "L1.Total Rain                   0.000066         0.000061            1.091           0.275\n",
              "L1.Precipitation Type           0.014813         0.000776           19.098           0.000\n",
              "L1.Wind Direction              -0.000257         0.000118           -2.187           0.029\n",
              "L1.Wind Speed                   0.025009         0.012024            2.080           0.038\n",
              "L1.Maximum Wind Speed          -0.020820         0.011171           -1.864           0.062\n",
              "L1.Barometric Pressure         -0.010334         0.001636           -6.318           0.000\n",
              "L1.Solar Radiation             -0.000012         0.000040           -0.311           0.756\n",
              "L1.Heading                      0.000254         0.000122            2.087           0.037\n",
              "L1.Battery Life                -0.133655         0.031516           -4.241           0.000\n",
              "==========================================================================================\n",
              "\n",
              "Results for equation Interval Rain\n",
              "==========================================================================================\n",
              "                             coefficient       std. error           t-stat            prob\n",
              "------------------------------------------------------------------------------------------\n",
              "const                           3.306466         0.870582            3.798           0.000\n",
              "L1.Air Temperature             -0.033702         0.007008           -4.809           0.000\n",
              "L1.Wet Bulb Temperature         0.041698         0.007900            5.278           0.000\n",
              "L1.Humidity                    -0.003281         0.000951           -3.451           0.001\n",
              "L1.Rain Intensity               0.123674         0.003282           37.679           0.000\n",
              "L1.Interval Rain                0.385120         0.005834           66.012           0.000\n",
              "L1.Total Rain                  -0.000064         0.000030           -2.118           0.034\n",
              "L1.Precipitation Type           0.011319         0.000384           29.493           0.000\n",
              "L1.Wind Direction              -0.000088         0.000058           -1.505           0.132\n",
              "L1.Wind Speed                  -0.012250         0.005950           -2.059           0.040\n",
              "L1.Maximum Wind Speed           0.012331         0.005528            2.231           0.026\n",
              "L1.Barometric Pressure         -0.001981         0.000809           -2.448           0.014\n",
              "L1.Solar Radiation             -0.000042         0.000020           -2.131           0.033\n",
              "L1.Heading                     -0.000055         0.000060           -0.916           0.360\n",
              "L1.Battery Life                -0.080497         0.015596           -5.161           0.000\n",
              "==========================================================================================\n",
              "\n",
              "Results for equation Total Rain\n",
              "==========================================================================================\n",
              "                             coefficient       std. error           t-stat            prob\n",
              "------------------------------------------------------------------------------------------\n",
              "const                          12.254442        28.297099            0.433           0.665\n",
              "L1.Air Temperature              0.390459         0.227798            1.714           0.087\n",
              "L1.Wet Bulb Temperature        -0.173309         0.256776           -0.675           0.500\n",
              "L1.Humidity                     0.042650         0.030899            1.380           0.167\n",
              "L1.Rain Intensity               0.141408         0.106687            1.325           0.185\n",
              "L1.Interval Rain               -0.237456         0.189631           -1.252           0.210\n",
              "L1.Total Rain                   0.987287         0.000978         1009.733           0.000\n",
              "L1.Precipitation Type          -0.007282         0.012475           -0.584           0.559\n",
              "L1.Wind Direction               0.000995         0.001893            0.526           0.599\n",
              "L1.Wind Speed                   0.361287         0.193399            1.868           0.062\n",
              "L1.Maximum Wind Speed          -0.333080         0.179686           -1.854           0.064\n",
              "L1.Barometric Pressure          0.099219         0.026306            3.772           0.000\n",
              "L1.Solar Radiation             -0.000983         0.000646           -1.523           0.128\n",
              "L1.Heading                     -0.052361         0.001958          -26.739           0.000\n",
              "L1.Battery Life                -7.999300         0.506921          -15.780           0.000\n",
              "==========================================================================================\n",
              "\n",
              "Results for equation Precipitation Type\n",
              "==========================================================================================\n",
              "                             coefficient       std. error           t-stat            prob\n",
              "------------------------------------------------------------------------------------------\n",
              "const                          92.854679        12.300408            7.549           0.000\n",
              "L1.Air Temperature              0.585878         0.099021            5.917           0.000\n",
              "L1.Wet Bulb Temperature        -0.695853         0.111617           -6.234           0.000\n",
              "L1.Humidity                     0.129342         0.013431            9.630           0.000\n",
              "L1.Rain Intensity               0.338249         0.046376            7.294           0.000\n",
              "L1.Interval Rain                0.726080         0.082430            8.808           0.000\n",
              "L1.Total Rain                   0.000326         0.000425            0.768           0.443\n",
              "L1.Precipitation Type           0.584599         0.005423          107.805           0.000\n",
              "L1.Wind Direction              -0.001535         0.000823           -1.866           0.062\n",
              "L1.Wind Speed                   0.178564         0.084068            2.124           0.034\n",
              "L1.Maximum Wind Speed          -0.132399         0.078107           -1.695           0.090\n",
              "L1.Barometric Pressure         -0.098073         0.011435           -8.577           0.000\n",
              "L1.Solar Radiation             -0.000652         0.000281           -2.323           0.020\n",
              "L1.Heading                     -0.003881         0.000851           -4.559           0.000\n",
              "L1.Battery Life                -0.146483         0.220352           -0.665           0.506\n",
              "==========================================================================================\n",
              "\n",
              "Results for equation Wind Direction\n",
              "==========================================================================================\n",
              "                             coefficient       std. error           t-stat            prob\n",
              "------------------------------------------------------------------------------------------\n",
              "const                        1208.138494        59.688041           20.241           0.000\n",
              "L1.Air Temperature             -0.579940         0.480501           -1.207           0.227\n",
              "L1.Wet Bulb Temperature        -0.096199         0.541626           -0.178           0.859\n",
              "L1.Humidity                    -0.573802         0.065175           -8.804           0.000\n",
              "L1.Rain Intensity              -0.306329         0.225039           -1.361           0.173\n",
              "L1.Interval Rain                0.194558         0.399994            0.486           0.627\n",
              "L1.Total Rain                   0.015444         0.002062            7.488           0.000\n",
              "L1.Precipitation Type           0.007014         0.026314            0.267           0.790\n",
              "L1.Wind Direction               0.738015         0.003993          184.810           0.000\n",
              "L1.Wind Speed                  -0.016449         0.407943           -0.040           0.968\n",
              "L1.Maximum Wind Speed          -0.776671         0.379017           -2.049           0.040\n",
              "L1.Barometric Pressure         -1.129570         0.055488          -20.357           0.000\n",
              "L1.Solar Radiation             -0.015814         0.001362          -11.607           0.000\n",
              "L1.Heading                     -0.021484         0.004131           -5.201           0.000\n",
              "L1.Battery Life                 1.169537         1.069265            1.094           0.274\n",
              "==========================================================================================\n",
              "\n",
              "Results for equation Wind Speed\n",
              "==========================================================================================\n",
              "                             coefficient       std. error           t-stat            prob\n",
              "------------------------------------------------------------------------------------------\n",
              "const                           7.063327         4.211722            1.677           0.094\n",
              "L1.Air Temperature              0.111297         0.033905            3.283           0.001\n",
              "L1.Wet Bulb Temperature        -0.174155         0.038218           -4.557           0.000\n",
              "L1.Humidity                     0.025207         0.004599            5.481           0.000\n",
              "L1.Rain Intensity               0.005324         0.015879            0.335           0.737\n",
              "L1.Interval Rain                0.006249         0.028224            0.221           0.825\n",
              "L1.Total Rain                   0.000232         0.000146            1.597           0.110\n",
              "L1.Precipitation Type           0.007830         0.001857            4.217           0.000\n",
              "L1.Wind Direction              -0.001863         0.000282           -6.610           0.000\n",
              "L1.Wind Speed                  -0.191972         0.028785           -6.669           0.000\n",
              "L1.Maximum Wind Speed           0.642322         0.026744           24.017           0.000\n",
              "L1.Barometric Pressure         -0.015879         0.003915           -4.056           0.000\n",
              "L1.Solar Radiation              0.002918         0.000096           30.353           0.000\n",
              "L1.Heading                      0.000056         0.000291            0.191           0.849\n",
              "L1.Battery Life                 0.608249         0.075450            8.062           0.000\n",
              "==========================================================================================\n",
              "\n",
              "Results for equation Maximum Wind Speed\n",
              "==========================================================================================\n",
              "                             coefficient       std. error           t-stat            prob\n",
              "------------------------------------------------------------------------------------------\n",
              "const                          18.745524         4.293027            4.367           0.000\n",
              "L1.Air Temperature              0.118298         0.034560            3.423           0.001\n",
              "L1.Wet Bulb Temperature        -0.187973         0.038956           -4.825           0.000\n",
              "L1.Humidity                     0.024307         0.004688            5.185           0.000\n",
              "L1.Rain Intensity               0.002563         0.016186            0.158           0.874\n",
              "L1.Interval Rain                0.009317         0.028769            0.324           0.746\n",
              "L1.Total Rain                   0.000259         0.000148            1.745           0.081\n",
              "L1.Precipitation Type           0.007795         0.001893            4.118           0.000\n",
              "L1.Wind Direction              -0.001982         0.000287           -6.900           0.000\n",
              "L1.Wind Speed                  -0.961987         0.029341          -32.786           0.000\n",
              "L1.Maximum Wind Speed           1.424341         0.027261           52.249           0.000\n",
              "L1.Barometric Pressure         -0.026283         0.003991           -6.586           0.000\n",
              "L1.Solar Radiation              0.002992         0.000098           30.534           0.000\n",
              "L1.Heading                      0.000470         0.000297            1.581           0.114\n",
              "L1.Battery Life                 0.532171         0.076906            6.920           0.000\n",
              "==========================================================================================\n",
              "\n",
              "Results for equation Barometric Pressure\n",
              "==========================================================================================\n",
              "                             coefficient       std. error           t-stat            prob\n",
              "------------------------------------------------------------------------------------------\n",
              "const                          -0.395315         0.623916           -0.634           0.526\n",
              "L1.Air Temperature             -0.010718         0.005023           -2.134           0.033\n",
              "L1.Wet Bulb Temperature         0.009581         0.005662            1.692           0.091\n",
              "L1.Humidity                     0.004291         0.000681            6.299           0.000\n",
              "L1.Rain Intensity              -0.005269         0.002352           -2.240           0.025\n",
              "L1.Interval Rain               -0.032433         0.004181           -7.757           0.000\n",
              "L1.Total Rain                   0.000099         0.000022            4.577           0.000\n",
              "L1.Precipitation Type          -0.003231         0.000275          -11.745           0.000\n",
              "L1.Wind Direction               0.001367         0.000042           32.759           0.000\n",
              "L1.Wind Speed                  -0.051521         0.004264          -12.082           0.000\n",
              "L1.Maximum Wind Speed           0.045135         0.003962           11.392           0.000\n",
              "L1.Barometric Pressure          0.998789         0.000580         1722.001           0.000\n",
              "L1.Solar Radiation             -0.000060         0.000014           -4.214           0.000\n",
              "L1.Heading                      0.000268         0.000043            6.209           0.000\n",
              "L1.Battery Life                 0.077234         0.011177            6.910           0.000\n",
              "==========================================================================================\n",
              "\n",
              "Results for equation Solar Radiation\n",
              "==========================================================================================\n",
              "                             coefficient       std. error           t-stat            prob\n",
              "------------------------------------------------------------------------------------------\n",
              "const                       -1695.196190       258.604403           -6.555           0.000\n",
              "L1.Air Temperature             -6.589187         2.081820           -3.165           0.002\n",
              "L1.Wet Bulb Temperature        11.280929         2.346651            4.807           0.000\n",
              "L1.Humidity                    -1.928311         0.282379           -6.829           0.000\n",
              "L1.Rain Intensity              -0.244503         0.975005           -0.251           0.802\n",
              "L1.Interval Rain               -1.335672         1.733015           -0.771           0.441\n",
              "L1.Total Rain                  -0.047979         0.008936           -5.369           0.000\n",
              "L1.Precipitation Type          -0.274908         0.114008           -2.411           0.016\n",
              "L1.Wind Direction              -0.047456         0.017302           -2.743           0.006\n",
              "L1.Wind Speed                  18.425804         1.767454           10.425           0.000\n",
              "L1.Maximum Wind Speed          -9.545449         1.642130           -5.813           0.000\n",
              "L1.Barometric Pressure          1.856139         0.240409            7.721           0.000\n",
              "L1.Solar Radiation              0.392586         0.005903           66.505           0.000\n",
              "L1.Heading                      0.033843         0.017896            1.891           0.059\n",
              "L1.Battery Life                 1.152506         4.632697            0.249           0.804\n",
              "==========================================================================================\n",
              "\n",
              "Results for equation Heading\n",
              "==========================================================================================\n",
              "                             coefficient       std. error           t-stat            prob\n",
              "------------------------------------------------------------------------------------------\n",
              "const                         298.882286        57.656740            5.184           0.000\n",
              "L1.Air Temperature              0.706627         0.464149            1.522           0.128\n",
              "L1.Wet Bulb Temperature        -0.356676         0.523194           -0.682           0.495\n",
              "L1.Humidity                     0.121848         0.062957            1.935           0.053\n",
              "L1.Rain Intensity               0.317349         0.217381            1.460           0.144\n",
              "L1.Interval Rain               -0.709029         0.386382           -1.835           0.066\n",
              "L1.Total Rain                  -0.003077         0.001992           -1.545           0.122\n",
              "L1.Precipitation Type          -0.017060         0.025418           -0.671           0.502\n",
              "L1.Wind Direction              -0.010919         0.003857           -2.831           0.005\n",
              "L1.Wind Speed                  -1.133267         0.394060           -2.876           0.004\n",
              "L1.Maximum Wind Speed           1.033447         0.366119            2.823           0.005\n",
              "L1.Barometric Pressure          0.071109         0.053600            1.327           0.185\n",
              "L1.Solar Radiation              0.003399         0.001316            2.583           0.010\n",
              "L1.Heading                      0.723252         0.003990          181.269           0.000\n",
              "L1.Battery Life               -25.245858         1.032876          -24.442           0.000\n",
              "==========================================================================================\n",
              "\n",
              "Results for equation Battery Life\n",
              "==========================================================================================\n",
              "                             coefficient       std. error           t-stat            prob\n",
              "------------------------------------------------------------------------------------------\n",
              "const                           4.565288         0.269780           16.922           0.000\n",
              "L1.Air Temperature             -0.002299         0.002172           -1.059           0.290\n",
              "L1.Wet Bulb Temperature         0.004190         0.002448            1.712           0.087\n",
              "L1.Humidity                    -0.000163         0.000295           -0.552           0.581\n",
              "L1.Rain Intensity              -0.000131         0.001017           -0.129           0.898\n",
              "L1.Interval Rain               -0.006541         0.001808           -3.618           0.000\n",
              "L1.Total Rain                  -0.000021         0.000009           -2.268           0.023\n",
              "L1.Precipitation Type          -0.000005         0.000119           -0.043           0.965\n",
              "L1.Wind Direction               0.000116         0.000018            6.439           0.000\n",
              "L1.Wind Speed                   0.030535         0.001844           16.561           0.000\n",
              "L1.Maximum Wind Speed          -0.028948         0.001713          -16.898           0.000\n",
              "L1.Barometric Pressure          0.000635         0.000251            2.531           0.011\n",
              "L1.Solar Radiation              0.000037         0.000006            5.970           0.000\n",
              "L1.Heading                     -0.000535         0.000019          -28.633           0.000\n",
              "L1.Battery Life                 0.611628         0.004833          126.555           0.000\n",
              "==========================================================================================\n",
              "\n",
              "Correlation matrix of residuals\n",
              "                        Air Temperature  Wet Bulb Temperature  Humidity  Rain Intensity  Interval Rain  Total Rain  Precipitation Type  Wind Direction  Wind Speed  Maximum Wind Speed  Barometric Pressure  Solar Radiation   Heading  Battery Life\n",
              "Air Temperature                1.000000              0.700745 -0.650550       -0.057753      -0.111513   -0.040258           -0.087705        0.079838    0.001280            0.011258            -0.215876         0.094275 -0.070363     -0.094675\n",
              "Wet Bulb Temperature           0.700745              1.000000 -0.066984       -0.017326      -0.041571    0.060018           -0.007979        0.016300    0.022220            0.021735            -0.242481         0.017104  0.021219      0.010215\n",
              "Humidity                      -0.650550             -0.066984  1.000000        0.078089       0.156373    0.066100            0.168649       -0.139465    0.004603           -0.004750             0.029689        -0.091268  0.093103     -0.063290\n",
              "Rain Intensity                -0.057753             -0.017326  0.078089        1.000000       0.433818    0.014265            0.305212        0.002745    0.009550            0.009655             0.009254        -0.016172  0.005935     -0.000948\n",
              "Interval Rain                 -0.111513             -0.041571  0.156373        0.433818       1.000000    0.031520            0.322223       -0.003598    0.008506            0.006261            -0.001300        -0.020486  0.004069      0.001782\n",
              "Total Rain                    -0.040258              0.060018  0.066100        0.014265       0.031520    1.000000           -0.001337        0.012464   -0.001669           -0.002678            -0.035986         0.019531  0.371634      0.124993\n",
              "Precipitation Type            -0.087705             -0.007979  0.168649        0.305212       0.322223   -0.001337            1.000000        0.009468    0.015807            0.014587            -0.008768        -0.033571 -0.029666      0.003840\n",
              "Wind Direction                 0.079838              0.016300 -0.139465        0.002745      -0.003598    0.012464            0.009468        1.000000    0.017023            0.024370             0.084889        -0.039921  0.010357      0.053292\n",
              "Wind Speed                     0.001280              0.022220  0.004603        0.009550       0.008506   -0.001669            0.015807        0.017023    1.000000            0.989759             0.044200        -0.486373  0.030252      0.011372\n",
              "Maximum Wind Speed             0.011258              0.021735 -0.004750        0.009655       0.006261   -0.002678            0.014587        0.024370    0.989759            1.000000             0.042799        -0.476405  0.032120     -0.021454\n",
              "Barometric Pressure           -0.215876             -0.242481  0.029689        0.009254      -0.001300   -0.035986           -0.008768        0.084889    0.044200            0.042799             1.000000        -0.118726 -0.052702     -0.087277\n",
              "Solar Radiation                0.094275              0.017104 -0.091268       -0.016172      -0.020486    0.019531           -0.033571       -0.039921   -0.486373           -0.476405            -0.118726         1.000000 -0.017308     -0.016377\n",
              "Heading                       -0.070363              0.021219  0.093103        0.005935       0.004069    0.371634           -0.029666        0.010357    0.030252            0.032120            -0.052702        -0.017308  1.000000      0.117685\n",
              "Battery Life                  -0.094675              0.010215 -0.063290       -0.000948       0.001782    0.124993            0.003840        0.053292    0.011372           -0.021454            -0.087277        -0.016377  0.117685      1.000000\n",
              "\n"
            ]
          },
          "metadata": {
            "tags": []
          },
          "execution_count": 10
        }
      ]
    },
    {
      "cell_type": "markdown",
      "metadata": {
        "id": "mNwuVw7jX46Z",
        "colab_type": "text"
      },
      "source": [
        "### make prediction on validation"
      ]
    },
    {
      "cell_type": "code",
      "metadata": {
        "id": "F4zgYRgyX46Z",
        "colab_type": "code",
        "colab": {}
      },
      "source": [
        "prediction = model_fit.forecast(model_fit.y, steps=len(valid))"
      ],
      "execution_count": 0,
      "outputs": []
    },
    {
      "cell_type": "markdown",
      "metadata": {
        "id": "QJUj9YRZX46b",
        "colab_type": "text"
      },
      "source": [
        "### converting predictions to dataframe"
      ]
    },
    {
      "cell_type": "code",
      "metadata": {
        "id": "ADeGxy8uX46d",
        "colab_type": "code",
        "colab": {}
      },
      "source": [
        "cols = df.columns\n",
        "\n",
        "pred = pd.DataFrame(index=range(0,len(prediction)),columns=[cols])\n",
        "for j in range(0,14):\n",
        "    for i in range(0, len(prediction)):\n",
        "        pred.iloc[i][j] = prediction[i][j]"
      ],
      "execution_count": 0,
      "outputs": []
    },
    {
      "cell_type": "markdown",
      "metadata": {
        "id": "HVsdm-Q1X46j",
        "colab_type": "text"
      },
      "source": [
        "### check mse"
      ]
    },
    {
      "cell_type": "code",
      "metadata": {
        "id": "VIfUNlivX46k",
        "colab_type": "code",
        "colab": {
          "base_uri": "https://localhost:8080/",
          "height": 266
        },
        "outputId": "d2decb4b-8692-41e9-8012-901552b49709"
      },
      "source": [
        "for i in cols:\n",
        "    print('mse value for', i, 'is : ', mean_squared_error(pred[i], valid[i]))"
      ],
      "execution_count": 13,
      "outputs": [
        {
          "output_type": "stream",
          "text": [
            "mse value for Air Temperature is :  121.22346890915637\n",
            "mse value for Wet Bulb Temperature is :  99.42818805431799\n",
            "mse value for Humidity is :  189.84508325316594\n",
            "mse value for Rain Intensity is :  5.302345891656254\n",
            "mse value for Interval Rain is :  1.1268225236293972\n",
            "mse value for Total Rain is :  25410.072251030466\n",
            "mse value for Precipitation Type is :  305.2423581220381\n",
            "mse value for Wind Direction is :  7937.462488807512\n",
            "mse value for Wind Speed is :  39.06445127743078\n",
            "mse value for Maximum Wind Speed is :  41.93975022880157\n",
            "mse value for Barometric Pressure is :  54.768567757424016\n",
            "mse value for Solar Radiation is :  12681.4296263369\n",
            "mse value for Heading is :  27051.97138614105\n",
            "mse value for Battery Life is :  0.1985342580521253\n"
          ],
          "name": "stdout"
        }
      ]
    },
    {
      "cell_type": "markdown",
      "metadata": {
        "id": "lCuFRTKwX46n",
        "colab_type": "text"
      },
      "source": [
        "### Make final predictions"
      ]
    },
    {
      "cell_type": "code",
      "metadata": {
        "id": "iFWWjYRHX46o",
        "colab_type": "code",
        "colab": {
          "base_uri": "https://localhost:8080/",
          "height": 88
        },
        "outputId": "febdc002-8fb5-4d7c-f683-3c24044b7b0b"
      },
      "source": [
        "model = VAR(endog=df) \n",
        "model_fit = model.fit()\n",
        "yhat = model_fit.forecast(model_fit.y, steps=1) # change the steps here for more days in the future\n",
        "print(yhat)"
      ],
      "execution_count": 14,
      "outputs": [
        {
          "output_type": "stream",
          "text": [
            "[[1.69731814e+01 1.65090314e+01 8.94531124e+01 1.37445221e-01\n",
            "  1.11039547e-01 4.99038654e+01 2.28992246e+00 2.17458949e+02\n",
            "  1.34937586e+00 2.29092940e+00 9.92699223e+02 8.09535583e+01\n",
            "  3.24927924e+02 1.30890484e+01]]\n"
          ],
          "name": "stdout"
        }
      ]
    }
  ]
}